{
 "cells": [
  {
   "cell_type": "code",
   "execution_count": 1,
   "metadata": {},
   "outputs": [],
   "source": [
    "import os\n",
    "import glob\n",
    "import cv2\n",
    "from PIL import Image\n",
    "import numpy as np\n",
    "import pandas as pd\n",
    "import matplotlib.pyplot as plt\n",
    "%matplotlib inline\n",
    "import albumentations as A\n",
    "import onnxruntime"
   ]
  },
  {
   "cell_type": "code",
   "execution_count": 2,
   "metadata": {},
   "outputs": [
    {
     "data": {
      "text/html": [
       "<div>\n",
       "<style scoped>\n",
       "    .dataframe tbody tr th:only-of-type {\n",
       "        vertical-align: middle;\n",
       "    }\n",
       "\n",
       "    .dataframe tbody tr th {\n",
       "        vertical-align: top;\n",
       "    }\n",
       "\n",
       "    .dataframe thead th {\n",
       "        text-align: right;\n",
       "    }\n",
       "</style>\n",
       "<table border=\"1\" class=\"dataframe\">\n",
       "  <thead>\n",
       "    <tr style=\"text-align: right;\">\n",
       "      <th></th>\n",
       "      <th>image_path</th>\n",
       "      <th>mask_path</th>\n",
       "      <th>diagnosis</th>\n",
       "    </tr>\n",
       "  </thead>\n",
       "  <tbody>\n",
       "    <tr>\n",
       "      <th>0</th>\n",
       "      <td>C:\\Users\\Z0047TWV\\Desktop\\Brain MRI Hackathon\\...</td>\n",
       "      <td>C:\\Users\\Z0047TWV\\Desktop\\Brain MRI Hackathon\\...</td>\n",
       "      <td>1</td>\n",
       "    </tr>\n",
       "    <tr>\n",
       "      <th>1</th>\n",
       "      <td>C:\\Users\\Z0047TWV\\Desktop\\Brain MRI Hackathon\\...</td>\n",
       "      <td>C:\\Users\\Z0047TWV\\Desktop\\Brain MRI Hackathon\\...</td>\n",
       "      <td>1</td>\n",
       "    </tr>\n",
       "    <tr>\n",
       "      <th>2</th>\n",
       "      <td>C:\\Users\\Z0047TWV\\Desktop\\Brain MRI Hackathon\\...</td>\n",
       "      <td>C:\\Users\\Z0047TWV\\Desktop\\Brain MRI Hackathon\\...</td>\n",
       "      <td>1</td>\n",
       "    </tr>\n",
       "    <tr>\n",
       "      <th>3</th>\n",
       "      <td>C:\\Users\\Z0047TWV\\Desktop\\Brain MRI Hackathon\\...</td>\n",
       "      <td>C:\\Users\\Z0047TWV\\Desktop\\Brain MRI Hackathon\\...</td>\n",
       "      <td>1</td>\n",
       "    </tr>\n",
       "  </tbody>\n",
       "</table>\n",
       "</div>"
      ],
      "text/plain": [
       "                                          image_path  \\\n",
       "0  C:\\Users\\Z0047TWV\\Desktop\\Brain MRI Hackathon\\...   \n",
       "1  C:\\Users\\Z0047TWV\\Desktop\\Brain MRI Hackathon\\...   \n",
       "2  C:\\Users\\Z0047TWV\\Desktop\\Brain MRI Hackathon\\...   \n",
       "3  C:\\Users\\Z0047TWV\\Desktop\\Brain MRI Hackathon\\...   \n",
       "\n",
       "                                           mask_path  diagnosis  \n",
       "0  C:\\Users\\Z0047TWV\\Desktop\\Brain MRI Hackathon\\...          1  \n",
       "1  C:\\Users\\Z0047TWV\\Desktop\\Brain MRI Hackathon\\...          1  \n",
       "2  C:\\Users\\Z0047TWV\\Desktop\\Brain MRI Hackathon\\...          1  \n",
       "3  C:\\Users\\Z0047TWV\\Desktop\\Brain MRI Hackathon\\...          1  "
      ]
     },
     "execution_count": 2,
     "metadata": {},
     "output_type": "execute_result"
    }
   ],
   "source": [
    "# Loading the test images path \n",
    "\n",
    "PATH = 'C:\\\\Users\\\\Z0047TWV\\\\Desktop\\\\Brain MRI Hackathon\\\\Test images'\n",
    "\n",
    "mask_files = glob.glob(PATH + '\\\\*_mask*')\n",
    "image_files = [file.replace('\\\\_mask', '') for file in mask_files]\n",
    "\n",
    "def diagnosis(mask_path):\n",
    "    return 1 if np.max(cv2.imread(mask_path)) > 0 else 0\n",
    "\n",
    "samples_df = pd.DataFrame({\"image_path\": image_files,\n",
    "                  \"mask_path\": mask_files,\n",
    "                  \"diagnosis\": [diagnosis(x) for x in mask_files]})\n",
    "\n",
    "samples_df"
   ]
  },
  {
   "cell_type": "code",
   "execution_count": 3,
   "metadata": {},
   "outputs": [],
   "source": [
    "# Pre-processing test images\n",
    "\n",
    "def load_sample(idx):\n",
    "    image = cv2.imread(samples_df.iloc[idx, 0])\n",
    "    image = (np.array(image).astype(np.float32))/255.\n",
    "    mask = cv2.imread(samples_df.iloc[idx, 1], 0)\n",
    "    \n",
    "    test_transform = A.Compose([\n",
    "                    A.Resize(width=128, height=128, p=1.0)\n",
    "                    ])\n",
    "    \n",
    "    aug = test_transform(image=image, mask=mask)\n",
    "    image = aug['image']\n",
    "    mask = aug['mask']\n",
    "            \n",
    "    image = image.transpose((2,0,1))\n",
    "    \n",
    "    #image normalize\n",
    "    mean_vec = np.array([0.485, 0.456, 0.406])\n",
    "    std_vec = np.array([0.229, 0.224, 0.225])\n",
    "\n",
    "    for i in range(image.shape[0]):\n",
    "        image[i, :, :] = (image[i, :, :] - mean_vec[i]) / (std_vec[i])\n",
    "    \n",
    "    \n",
    "    mask = np.expand_dims(mask, axis=-1).transpose((2,0,1))\n",
    "\n",
    "    return image, mask"
   ]
  },
  {
   "cell_type": "code",
   "execution_count": 4,
   "metadata": {},
   "outputs": [],
   "source": [
    "test_img, test_mask = load_sample(3)"
   ]
  },
  {
   "cell_type": "code",
   "execution_count": 5,
   "metadata": {},
   "outputs": [
    {
     "data": {
      "text/plain": [
       "((3, 128, 128), (1, 128, 128))"
      ]
     },
     "execution_count": 5,
     "metadata": {},
     "output_type": "execute_result"
    }
   ],
   "source": [
    "test_img.shape, test_mask.shape"
   ]
  },
  {
   "cell_type": "code",
   "execution_count": 6,
   "metadata": {},
   "outputs": [
    {
     "data": {
      "text/plain": [
       "(1, 3, 128, 128)"
      ]
     },
     "execution_count": 6,
     "metadata": {},
     "output_type": "execute_result"
    }
   ],
   "source": [
    "# Creating batch of single image \n",
    "\n",
    "input_img = np.stack([test_img]*1)\n",
    "input_img.shape"
   ]
  },
  {
   "cell_type": "code",
   "execution_count": 7,
   "metadata": {},
   "outputs": [],
   "source": [
    "# Loading the onnx model \n",
    "model_onnx = 'C:\\\\Users\\\\Z0047TWV\\\\Desktop\\\\Brain MRI Hackathon\\\\Models\\\\brain-mri-unet.onnx'\n",
    "\n",
    "session = onnxruntime.InferenceSession(model_onnx, None, providers= ['TensorrtExecutionProvider', 'CUDAExecutionProvider', 'CPUExecutionProvider'])\n",
    "input_name = session.get_inputs()[0].name\n",
    "output_name = session.get_outputs()[0].name"
   ]
  },
  {
   "cell_type": "code",
   "execution_count": 8,
   "metadata": {},
   "outputs": [
    {
     "data": {
      "text/plain": [
       "[array([[[[2.09212303e-05, 1.17719173e-05, 1.98483467e-05, ...,\n",
       "           1.20103359e-05, 2.36630440e-05, 3.69548798e-05],\n",
       "          [1.77919865e-05, 1.23977661e-05, 3.13818455e-05, ...,\n",
       "           1.43945217e-05, 5.99026680e-05, 8.67843628e-05],\n",
       "          [7.77840614e-06, 4.26173210e-06, 1.45733356e-05, ...,\n",
       "           1.38580799e-05, 3.57627869e-05, 9.12249088e-05],\n",
       "          ...,\n",
       "          [6.16908073e-06, 2.74181366e-06, 2.73883343e-05, ...,\n",
       "           1.55270100e-05, 8.01682472e-06, 1.08480453e-05],\n",
       "          [1.06096268e-05, 3.75509262e-06, 1.03116035e-05, ...,\n",
       "           1.11162663e-05, 1.41859055e-05, 2.52127647e-05],\n",
       "          [1.85370445e-05, 5.30481339e-06, 7.21216202e-06, ...,\n",
       "           9.26852226e-06, 1.46627426e-05, 1.89840794e-05]]]],\n",
       "       dtype=float32)]"
      ]
     },
     "execution_count": 8,
     "metadata": {},
     "output_type": "execute_result"
    }
   ],
   "source": [
    "# Prediction \n",
    "result = session.run([output_name], {input_name: input_img})\n",
    "result"
   ]
  },
  {
   "cell_type": "code",
   "execution_count": 9,
   "metadata": {},
   "outputs": [
    {
     "data": {
      "text/plain": [
       "array([[0, 0, 0, ..., 0, 0, 0],\n",
       "       [0, 0, 0, ..., 0, 0, 0],\n",
       "       [0, 0, 0, ..., 0, 0, 0],\n",
       "       ...,\n",
       "       [0, 0, 0, ..., 0, 0, 0],\n",
       "       [0, 0, 0, ..., 0, 0, 0],\n",
       "       [0, 0, 0, ..., 0, 0, 0]], dtype=uint8)"
      ]
     },
     "execution_count": 9,
     "metadata": {},
     "output_type": "execute_result"
    }
   ],
   "source": [
    "arr = np.array(result).astype(np.float32)\n",
    "arr = arr * 255\n",
    "arr = arr[0, 0, 0, :, :].astype(np.uint8)\n",
    "arr"
   ]
  },
  {
   "cell_type": "code",
   "execution_count": 10,
   "metadata": {},
   "outputs": [
    {
     "data": {
      "text/plain": [
       "(0.00933837890625, 0.061619337648153305, 0, 14, (128, 128))"
      ]
     },
     "execution_count": 10,
     "metadata": {},
     "output_type": "execute_result"
    }
   ],
   "source": [
    "arr.mean(), arr.var(), arr.min(), arr.max(), arr.shape"
   ]
  },
  {
   "cell_type": "code",
   "execution_count": 11,
   "metadata": {},
   "outputs": [
    {
     "data": {
      "text/plain": [
       "<matplotlib.colorbar.Colorbar at 0x20d0028b2e0>"
      ]
     },
     "execution_count": 11,
     "metadata": {},
     "output_type": "execute_result"
    },
    {
     "data": {
      "image/png": "[encoded data removed]",
      "text/plain": [
       "<Figure size 432x288 with 2 Axes>"
      ]
     },
     "metadata": {
      "needs_background": "light"
     },
     "output_type": "display_data"
    }
   ],
   "source": [
    "plt.imshow(arr)\n",
    "plt.colorbar()"
   ]
  },
  {
   "cell_type": "code",
   "execution_count": 12,
   "metadata": {},
   "outputs": [
    {
     "data": {
      "text/plain": [
       "<matplotlib.image.AxesImage at 0x20d004f1be0>"
      ]
     },
     "execution_count": 12,
     "metadata": {},
     "output_type": "execute_result"
    },
    {
     "data": {
      "image/png": "[encoded data removed]",
      "text/plain": [
       "<Figure size 432x288 with 1 Axes>"
      ]
     },
     "metadata": {
      "needs_background": "light"
     },
     "output_type": "display_data"
    }
   ],
   "source": [
    "maskimg = test_mask[0, :, :]\n",
    "plt.imshow(maskimg)"
   ]
  }
 ],
 "metadata": {
  "kernelspec": {
   "display_name": "Python 3.9.0 64-bit",
   "language": "python",
   "name": "python3"
  },
  "language_info": {
   "codemirror_mode": {
    "name": "ipython",
    "version": 3
   },
   "file_extension": ".py",
   "mimetype": "text/x-python",
   "name": "python",
   "nbconvert_exporter": "python",
   "pygments_lexer": "ipython3",
   "version": "3.9.0"
  },
  "orig_nbformat": 4,
  "vscode": {
   "interpreter": {
    "hash": "a95cf6bbc3f96a2acf91a41784961e1e94535f1fbd256d5599fd334676c9073e"
   }
  }
 },
 "nbformat": 4,
 "nbformat_minor": 2
}
